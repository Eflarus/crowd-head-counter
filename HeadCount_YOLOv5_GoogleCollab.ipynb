{
  "nbformat": 4,
  "nbformat_minor": 0,
  "metadata": {
    "colab": {
      "provenance": [],
      "gpuType": "T4"
    },
    "kernelspec": {
      "name": "python3",
      "display_name": "Python 3"
    },
    "language_info": {
      "name": "python"
    },
    "accelerator": "GPU"
  },
  "cells": [
    {
      "cell_type": "markdown",
      "source": [
        "## Import libs"
      ],
      "metadata": {
        "id": "E7ugi6MCPxDb"
      }
    },
    {
      "cell_type": "code",
      "execution_count": 1,
      "metadata": {
        "colab": {
          "base_uri": "https://localhost:8080/"
        },
        "id": "_SzgwtHlO2Ox",
        "outputId": "1f34149b-0324-441c-c0ba-33049d0ce67c"
      },
      "outputs": [
        {
          "output_type": "stream",
          "name": "stdout",
          "text": [
            "nvcc: NVIDIA (R) Cuda compiler driver\n",
            "Copyright (c) 2005-2022 NVIDIA Corporation\n",
            "Built on Wed_Sep_21_10:33:58_PDT_2022\n",
            "Cuda compilation tools, release 11.8, V11.8.89\n",
            "Build cuda_11.8.r11.8/compiler.31833905_0\n",
            "torch:  2.0 ; cuda:  cu118\n",
            "/content\n"
          ]
        }
      ],
      "source": [
        "import torch\n",
        "!nvcc --version\n",
        "TORCH_VERSION = \".\".join(torch.__version__.split(\".\")[:2])\n",
        "CUDA_VERSION = torch.__version__.split(\"+\")[-1]\n",
        "print(\"torch: \", TORCH_VERSION, \"; cuda: \", CUDA_VERSION)\n",
        "\n",
        "import os\n",
        "HOME = os.getcwd()\n",
        "print(HOME)\n",
        "\n",
        "import pandas as pd\n",
        "import time\n",
        "import cv2"
      ]
    },
    {
      "cell_type": "markdown",
      "source": [
        "## Install Yolo, Tracker"
      ],
      "metadata": {
        "id": "vKeY4gIDP2di"
      }
    },
    {
      "cell_type": "code",
      "source": [
        "%cd {HOME}\n",
        "!git clone https://github.com/ultralytics/yolov5\n",
        "\n",
        "%cd {HOME}/yolov5\n",
        "!pip install -r requirements.txt\n",
        "\n",
        "from IPython import display\n",
        "display.clear_output()"
      ],
      "metadata": {
        "id": "AGp4u39xP9On"
      },
      "execution_count": 2,
      "outputs": []
    },
    {
      "cell_type": "code",
      "source": [
        "!pip install supervision==0.10.0\n",
        "from IPython import display\n",
        "display.clear_output()\n",
        "\n",
        "import supervision\n",
        "print(\"supervision\", supervision.__version__)"
      ],
      "metadata": {
        "colab": {
          "base_uri": "https://localhost:8080/"
        },
        "id": "QDEI1d9FQBBE",
        "outputId": "2c6ef037-f8bf-40e3-e607-31ec755519e4"
      },
      "execution_count": 3,
      "outputs": [
        {
          "output_type": "stream",
          "name": "stdout",
          "text": [
            "supervision 0.10.0\n"
          ]
        }
      ]
    },
    {
      "cell_type": "code",
      "source": [
        "%cd {HOME}\n",
        "!git clone https://github.com/ifzhang/ByteTrack.git\n",
        "%cd {HOME}/ByteTrack\n",
        "\n",
        "# workaround related to https://github.com/roboflow/notebooks/issues/80\n",
        "!sed -i 's/onnx==1.8.1/onnx==1.14.0/g' requirements.txt\n",
        "!sed -i 's/onnxruntime==1.8.0/onnxruntime==1.12.0/g' requirements.txt\n",
        "\n",
        "\n",
        "!pip3 install -q -r requirements.txt\n",
        "!python3 setup.py -q develop\n",
        "!pip install -q cython_bbox\n",
        "!pip install -q onemetric\n",
        "# workaround related to https://github.com/roboflow/notebooks/issues/112 and https://github.com/roboflow/notebooks/issues/106\n",
        "!pip install -q loguru lap thop\n",
        "\n",
        "from IPython import display\n",
        "display.clear_output()\n",
        "\n",
        "import sys\n",
        "sys.path.append(f\"{HOME}/ByteTrack\")\n",
        "\n",
        "import yolox\n",
        "print(\"yolox.__version__:\", yolox.__version__)\n",
        "%cd {HOME}"
      ],
      "metadata": {
        "colab": {
          "base_uri": "https://localhost:8080/"
        },
        "id": "_StbOEnoQGyF",
        "outputId": "7ce2f70f-f97a-4fbe-ee7e-0a379ae7887c"
      },
      "execution_count": 4,
      "outputs": [
        {
          "output_type": "stream",
          "name": "stdout",
          "text": [
            "yolox.__version__: 0.1.0\n",
            "/content\n"
          ]
        }
      ]
    },
    {
      "cell_type": "markdown",
      "source": [
        "## Config Tracker, Supervision"
      ],
      "metadata": {
        "id": "JCpJjdYfQL-I"
      }
    },
    {
      "cell_type": "code",
      "source": [
        "from yolox.tracker.byte_tracker import BYTETracker, STrack\n",
        "from onemetric.cv.utils.iou import box_iou_batch\n",
        "from dataclasses import dataclass\n",
        "\n",
        "\n",
        "@dataclass(frozen=True)\n",
        "class BYTETrackerArgs:\n",
        "    track_thresh: float = 0.25\n",
        "    track_buffer: int = 30\n",
        "    match_thresh: float = 0.8\n",
        "    aspect_ratio_thresh: float = 3.0\n",
        "    min_box_area: float = 1.0\n",
        "    mot20: bool = False"
      ],
      "metadata": {
        "id": "c7chfC7NQUV0"
      },
      "execution_count": 5,
      "outputs": []
    },
    {
      "cell_type": "code",
      "source": [
        "import supervision\n",
        "from supervision.draw.color import ColorPalette\n",
        "from supervision.geometry.core import Point\n",
        "from supervision.utils.video import VideoInfo\n",
        "from supervision.utils.video import get_video_frames_generator\n",
        "from supervision.utils.video import process_video\n",
        "from supervision.utils.notebook import plot_image as show_frame_in_notebook\n",
        "from supervision.detection.annotate import Detections, BoxAnnotator\n",
        "from supervision.detection.line_counter import LineZone as LineCounter, LineZoneAnnotator as LineCounterAnnotator"
      ],
      "metadata": {
        "id": "7FPsJ1CrQfNq"
      },
      "execution_count": 6,
      "outputs": []
    },
    {
      "cell_type": "markdown",
      "source": [
        "## Load & Config Model"
      ],
      "metadata": {
        "id": "w8Ze9lBaQpgR"
      }
    },
    {
      "cell_type": "code",
      "source": [
        "!gdown  1gglIwqxaH2iTvy6lZlXuAcMpd_U0GCUb # load crowdhuman_yolov5m.pt"
      ],
      "metadata": {
        "colab": {
          "base_uri": "https://localhost:8080/"
        },
        "id": "i9AfsC6AQzmo",
        "outputId": "3e03e729-8c85-45b9-9640-a8e61443fba4"
      },
      "execution_count": 7,
      "outputs": [
        {
          "output_type": "stream",
          "name": "stdout",
          "text": [
            "Downloading...\n",
            "From: https://drive.google.com/uc?id=1gglIwqxaH2iTvy6lZlXuAcMpd_U0GCUb\n",
            "To: /content/crowdhuman_yolov5m.pt\n",
            "100% 169M/169M [00:03<00:00, 47.2MB/s]\n"
          ]
        }
      ]
    },
    {
      "cell_type": "code",
      "source": [
        "model = torch.hub.load('ultralytics/yolov5', 'custom', path='/content/crowdhuman_yolov5m.pt', force_reload=True)"
      ],
      "metadata": {
        "colab": {
          "base_uri": "https://localhost:8080/"
        },
        "id": "d7GzgjK_Q7wx",
        "outputId": "dc48e734-7d33-45b8-9a37-92ea1f46aee9"
      },
      "execution_count": 8,
      "outputs": [
        {
          "output_type": "stream",
          "name": "stderr",
          "text": [
            "/usr/local/lib/python3.10/dist-packages/torch/hub.py:286: UserWarning: You are about to download and run code from an untrusted repository. In a future release, this won't be allowed. To add the repository to your trusted list, change the command to {calling_fn}(..., trust_repo=False) and a command prompt will appear asking for an explicit confirmation of trust, or load(..., trust_repo=True), which will assume that the prompt is to be answered with 'yes'. You can also use load(..., trust_repo='check') which will only prompt for confirmation if the repo is not already trusted. This will eventually be the default behaviour\n",
            "  warnings.warn(\n",
            "Downloading: \"https://github.com/ultralytics/yolov5/zipball/master\" to /root/.cache/torch/hub/master.zip\n",
            "YOLOv5 🚀 2023-7-4 Python-3.10.12 torch-2.0.1+cu118 CUDA:0 (Tesla T4, 15102MiB)\n",
            "\n",
            "Fusing layers... \n",
            "Model summary: 308 layers, 21041679 parameters, 0 gradients\n",
            "Adding AutoShape... \n"
          ]
        }
      ]
    },
    {
      "cell_type": "markdown",
      "source": [
        "## Some utils for work"
      ],
      "metadata": {
        "id": "Hyys8SLXRDsm"
      }
    },
    {
      "cell_type": "code",
      "source": [
        "def resize_video(in_path, out_path, height:int):\n",
        "  import moviepy.editor as mp\n",
        "  clip = mp.VideoFileClip(in_path)\n",
        "  clip_resized = clip.resize(height=height) # According to moviePy documenation The width is then computed so that the width/height ratio is conserved.\n",
        "  clip_resized.write_videofile(out_path)\n",
        "  return\n"
      ],
      "metadata": {
        "id": "oedOG6znRJxa"
      },
      "execution_count": 9,
      "outputs": []
    },
    {
      "cell_type": "code",
      "source": [
        "from typing import List\n",
        "\n",
        "import numpy as np\n",
        "\n",
        "\n",
        "# converts Detections into format that can be consumed by match_detections_with_tracks function\n",
        "def detections2boxes(detections: Detections) -> np.ndarray:\n",
        "    return np.hstack((\n",
        "        detections.xyxy,\n",
        "        detections.confidence[:, np.newaxis]\n",
        "    ))\n",
        "\n",
        "\n",
        "# converts List[STrack] into format that can be consumed by match_detections_with_tracks function\n",
        "def tracks2boxes(tracks: List[STrack]) -> np.ndarray:\n",
        "    return np.array([\n",
        "        track.tlbr\n",
        "        for track\n",
        "        in tracks\n",
        "    ], dtype=float)\n",
        "\n",
        "\n",
        "# matches our bounding boxes with predictions\n",
        "def match_detections_with_tracks(\n",
        "    detections: Detections,\n",
        "    tracks: List[STrack]\n",
        ") -> Detections:\n",
        "    if not np.any(detections.xyxy) or len(tracks) == 0:\n",
        "        return np.empty((0,))\n",
        "\n",
        "    tracks_boxes = tracks2boxes(tracks=tracks)\n",
        "    iou = box_iou_batch(tracks_boxes, detections.xyxy)\n",
        "    track2detection = np.argmax(iou, axis=1)\n",
        "\n",
        "    tracker_ids = [None] * len(detections)\n",
        "\n",
        "    for tracker_index, detection_index in enumerate(track2detection):\n",
        "        if iou[tracker_index, detection_index] != 0:\n",
        "            tracker_ids[detection_index] = tracks[tracker_index].track_id\n",
        "\n",
        "    return tracker_ids"
      ],
      "metadata": {
        "id": "fa6MCpjJR6Jk"
      },
      "execution_count": 10,
      "outputs": []
    },
    {
      "cell_type": "code",
      "source": [
        "# returns real coord of line points from normalised coords\n",
        "def make_line(video_path, p1_n, p2_n):\n",
        "  V_PARAMS = VideoInfo.from_video_path(video_path)\n",
        "  w, h = V_PARAMS.width, V_PARAMS.height\n",
        "  return Point(int(w*p1_n[0]), int(h*p1_n[1])), Point(int(w*p2_n[0]), int(h*p2_n[1]))"
      ],
      "metadata": {
        "id": "iT8i0O8QTcXX"
      },
      "execution_count": 11,
      "outputs": []
    },
    {
      "cell_type": "code",
      "source": [
        "def process_frame(frame: np.ndarray, index: int) -> np.ndarray:\n",
        "        start_time = time.time()\n",
        "        results = model(frame)\n",
        "        detections = Detections.from_yolov5(results)\n",
        "\n",
        "        # filtering out detections with unwanted classes\n",
        "        detections = detections[(detections.class_id == 1)]\n",
        "\n",
        "        # tracking detections\n",
        "        tracks = byte_tracker.update(\n",
        "            output_results=detections2boxes(detections=detections),\n",
        "            img_info=frame.shape,\n",
        "            img_size=frame.shape\n",
        "        )\n",
        "        tracker_id = match_detections_with_tracks(detections=detections, tracks=tracks)\n",
        "        detections.tracker_id = np.array(tracker_id)\n",
        "\n",
        "        # filtering out detections without trackers\n",
        "        detections = detections[(detections.tracker_id != None)]\n",
        "\n",
        "\n",
        "        # updating line counter\n",
        "        line_counter.trigger(detections=detections)\n",
        "        line_counter.in_count\n",
        "\n",
        "        c_in=line_counter.in_count\n",
        "        c_out=line_counter.out_count\n",
        "\n",
        "        # annotate frame\n",
        "        if (SHOW_LABELS):\n",
        "          # format custom labels\n",
        "          labels = [\n",
        "              f\"#{tracker_id}\"\n",
        "              for _,_, confidence, class_id, tracker_id\n",
        "              in detections\n",
        "          ]\n",
        "          frame = box_annotator.annotate(scene=frame, detections=detections, labels=labels)\n",
        "        else:\n",
        "          frame = box_annotator.annotate(scene=frame, detections=detections, skip_label=True)\n",
        "\n",
        "        if (SHOW_LINECOUNTER):\n",
        "          line_annotator.annotate(frame=frame, line_counter=line_counter)\n",
        "        else:\n",
        "          cv2.putText(frame, f\"{c_in} {c_out}\", (20, 20),\tcv2.FONT_HERSHEY_SIMPLEX, 0.5, (0, 255, 0), 2)\n",
        "          cv2.line(frame, (LINE_START.x,LINE_START.y) , (LINE_END.x, LINE_END.y), (255, 255, 255), 1)\n",
        "\n",
        "        # Save to storage\n",
        "        DS[index/FPS]=(c_in, c_out)\n",
        "\n",
        "        # Show process stat\n",
        "        print(f'frame {index}/{TOTAL_FRAMES} {len(detections)} {(time.time() - start_time):.4f}s {c_in=} {c_out=}')\n",
        "\n",
        "        return frame"
      ],
      "metadata": {
        "id": "qWu9c2a1U3WZ"
      },
      "execution_count": 12,
      "outputs": []
    },
    {
      "cell_type": "markdown",
      "source": [
        "## Load video"
      ],
      "metadata": {
        "id": "2Ohqr2eCSI6H"
      }
    },
    {
      "cell_type": "code",
      "source": [
        "%cd {HOME}\n",
        "# !gdown 1h62b_Dh4Fw8ff2gwBLPC4WemT4MNE__x -O in.mp4 # subway_demo.mp4\n",
        "# !gdown 1qZ6ROKdzHbQiHdizKfYbecr9qquOQ0Cz -O in.mp4 # subway.mp4 https://drive.google.com/file/d//view?usp=drive_link\n",
        "# !gdown 1sGr3TgnFVsMrF6i0Eb2rkNxQHS7YdBxV -O in.mp4\n",
        "!gdown 1kxBHYgVfgyRJsCaXUCotNt8WqUOuvWfU -O in.mp4"
      ],
      "metadata": {
        "colab": {
          "base_uri": "https://localhost:8080/"
        },
        "id": "IN6sFvXCSMgE",
        "outputId": "239e9a2b-277b-4305-9cd3-ecd0ce4cc349"
      },
      "execution_count": 13,
      "outputs": [
        {
          "output_type": "stream",
          "name": "stdout",
          "text": [
            "/content\n",
            "Downloading...\n",
            "From: https://drive.google.com/uc?id=1kxBHYgVfgyRJsCaXUCotNt8WqUOuvWfU\n",
            "To: /content/in.mp4\n",
            "100% 2.02M/2.02M [00:00<00:00, 159MB/s]\n"
          ]
        }
      ]
    },
    {
      "cell_type": "code",
      "source": [
        "IN_VIDEO_PATH = f\"{HOME}/in.mp4\"\n",
        "\n",
        "VIDEO_INFO = VideoInfo.from_video_path(IN_VIDEO_PATH)\n",
        "FPS = VIDEO_INFO.fps\n",
        "TOTAL_FRAMES = VIDEO_INFO.total_frames\n",
        "SHOW_LABELS : bool = False\n",
        "SHOW_LINECOUNTER: bool = False\n",
        "\n",
        "# statistics storage\n",
        "DS = {}\n",
        "\n",
        "in_path = IN_VIDEO_PATH\n",
        "out_path =  f\"{HOME}/out.mp4\"\n",
        "stat_path =  f\"{HOME}/stat.csv\"\n",
        "p1_n, p2_n = [0.66, 0.42],[0.86, 0.44] # get normalized points it from https://roboflow.github.io/polygonzone/\n",
        "print(VIDEO_INFO)"
      ],
      "metadata": {
        "colab": {
          "base_uri": "https://localhost:8080/"
        },
        "id": "Jg3AqJKXS3ze",
        "outputId": "ef35f577-08d4-408b-d042-62f88e7385a8"
      },
      "execution_count": 14,
      "outputs": [
        {
          "output_type": "stream",
          "name": "stdout",
          "text": [
            "VideoInfo(width=596, height=336, fps=25, total_frames=362)\n"
          ]
        }
      ]
    },
    {
      "cell_type": "code",
      "source": [
        "LINE_START, LINE_END = make_line(in_path, p1_n, p2_n)\n",
        "print(LINE_START, LINE_END)\n",
        "\n",
        "LBL_SIZE: float = 0.5\n",
        "LBL_I : int = 1\n",
        "# create BYTETracker instance\n",
        "byte_tracker = BYTETracker(BYTETrackerArgs())\n",
        "# create VideoInfo instance\n",
        "video_info = VideoInfo.from_video_path(in_path)\n",
        "# create frame generator\n",
        "generator = get_video_frames_generator(in_path)\n",
        "# create LineCounter instance\n",
        "line_counter = LineCounter(start=LINE_START, end=LINE_END)\n",
        "# create instance of BoxAnnotator and LineCounterAnnotator\n",
        "box_annotator = BoxAnnotator(color=ColorPalette.from_hex(['#00ff00']), thickness=LBL_I, text_thickness=LBL_I, text_scale=LBL_SIZE)\n",
        "line_annotator = LineCounterAnnotator(thickness=LBL_I, text_thickness=LBL_I, text_scale=LBL_SIZE)\n",
        "\n",
        "process_video(\n",
        "    source_path=in_path,\n",
        "    target_path=out_path,\n",
        "    callback=process_frame\n",
        ")\n",
        "pd.DataFrame(DS).to_csv(stat_path, index=False)"
      ],
      "metadata": {
        "colab": {
          "base_uri": "https://localhost:8080/"
        },
        "id": "Ka7cCSplZN3w",
        "outputId": "b346e04e-32a1-41bf-9389-73b8943ee85f"
      },
      "execution_count": 15,
      "outputs": [
        {
          "output_type": "stream",
          "name": "stdout",
          "text": [
            "Point(x=393, y=141) Point(x=512, y=147)\n",
            "frame 0/362 19 4.1395s c_in=0 c_out=0\n",
            "frame 1/362 19 0.0464s c_in=0 c_out=0\n",
            "frame 2/362 19 0.0287s c_in=0 c_out=0\n",
            "frame 3/362 18 0.0280s c_in=0 c_out=0\n",
            "frame 4/362 18 0.0279s c_in=0 c_out=0\n",
            "frame 5/362 20 0.0288s c_in=0 c_out=0\n",
            "frame 6/362 19 0.0268s c_in=0 c_out=0\n",
            "frame 7/362 18 0.0255s c_in=0 c_out=0\n",
            "frame 8/362 18 0.0243s c_in=0 c_out=0\n",
            "frame 9/362 18 0.0253s c_in=0 c_out=0\n",
            "frame 10/362 17 0.0232s c_in=0 c_out=0\n",
            "frame 11/362 16 0.0233s c_in=0 c_out=0\n",
            "frame 12/362 15 0.0230s c_in=0 c_out=0\n",
            "frame 13/362 14 0.0228s c_in=0 c_out=0\n",
            "frame 14/362 12 0.0199s c_in=0 c_out=0\n",
            "frame 15/362 13 0.0182s c_in=0 c_out=0\n",
            "frame 16/362 14 0.0187s c_in=0 c_out=0\n",
            "frame 17/362 10 0.0246s c_in=0 c_out=0\n",
            "frame 18/362 12 0.0212s c_in=0 c_out=0\n",
            "frame 19/362 8 0.0207s c_in=0 c_out=0\n",
            "frame 20/362 10 0.0178s c_in=0 c_out=0\n",
            "frame 21/362 8 0.0174s c_in=0 c_out=0\n",
            "frame 22/362 8 0.0193s c_in=0 c_out=0\n",
            "frame 23/362 12 0.0160s c_in=0 c_out=0\n",
            "frame 24/362 12 0.0171s c_in=0 c_out=0\n",
            "frame 25/362 13 0.0164s c_in=0 c_out=0\n",
            "frame 26/362 12 0.0158s c_in=0 c_out=0\n",
            "frame 27/362 11 0.0164s c_in=0 c_out=0\n",
            "frame 28/362 11 0.0160s c_in=0 c_out=0\n",
            "frame 29/362 11 0.0158s c_in=0 c_out=0\n",
            "frame 30/362 11 0.0165s c_in=0 c_out=0\n",
            "frame 31/362 13 0.0175s c_in=0 c_out=0\n",
            "frame 32/362 14 0.0176s c_in=0 c_out=1\n",
            "frame 33/362 15 0.0175s c_in=0 c_out=1\n",
            "frame 34/362 12 0.0172s c_in=0 c_out=1\n",
            "frame 35/362 11 0.0201s c_in=0 c_out=1\n",
            "frame 36/362 11 0.0186s c_in=0 c_out=1\n",
            "frame 37/362 12 0.0173s c_in=0 c_out=1\n",
            "frame 38/362 13 0.0167s c_in=0 c_out=1\n",
            "frame 39/362 12 0.0169s c_in=0 c_out=1\n",
            "frame 40/362 12 0.0175s c_in=0 c_out=1\n",
            "frame 41/362 14 0.0178s c_in=0 c_out=1\n",
            "frame 42/362 13 0.0175s c_in=0 c_out=1\n",
            "frame 43/362 13 0.0172s c_in=0 c_out=1\n",
            "frame 44/362 13 0.0175s c_in=0 c_out=1\n",
            "frame 45/362 14 0.0177s c_in=0 c_out=1\n",
            "frame 46/362 13 0.0205s c_in=0 c_out=1\n",
            "frame 47/362 11 0.0167s c_in=0 c_out=1\n",
            "frame 48/362 14 0.0201s c_in=0 c_out=1\n",
            "frame 49/362 17 0.0179s c_in=0 c_out=1\n",
            "frame 50/362 17 0.0184s c_in=0 c_out=1\n",
            "frame 51/362 16 0.0178s c_in=0 c_out=1\n",
            "frame 52/362 17 0.0175s c_in=0 c_out=1\n",
            "frame 53/362 14 0.0169s c_in=0 c_out=1\n",
            "frame 54/362 15 0.0172s c_in=0 c_out=1\n",
            "frame 55/362 16 0.0170s c_in=0 c_out=1\n",
            "frame 56/362 15 0.0168s c_in=0 c_out=1\n",
            "frame 57/362 17 0.0201s c_in=0 c_out=1\n",
            "frame 58/362 19 0.0184s c_in=0 c_out=1\n",
            "frame 59/362 18 0.0180s c_in=0 c_out=1\n",
            "frame 60/362 17 0.0228s c_in=0 c_out=1\n",
            "frame 61/362 18 0.0177s c_in=0 c_out=1\n",
            "frame 62/362 18 0.0178s c_in=0 c_out=1\n",
            "frame 63/362 19 0.0185s c_in=0 c_out=1\n",
            "frame 64/362 18 0.0176s c_in=0 c_out=1\n",
            "frame 65/362 18 0.0170s c_in=0 c_out=1\n",
            "frame 66/362 18 0.0169s c_in=0 c_out=1\n",
            "frame 67/362 18 0.0199s c_in=0 c_out=1\n",
            "frame 68/362 16 0.0167s c_in=0 c_out=1\n",
            "frame 69/362 18 0.0213s c_in=0 c_out=1\n",
            "frame 70/362 19 0.0196s c_in=0 c_out=2\n",
            "frame 71/362 17 0.0173s c_in=0 c_out=2\n",
            "frame 72/362 18 0.0188s c_in=0 c_out=3\n",
            "frame 73/362 15 0.0171s c_in=0 c_out=3\n",
            "frame 74/362 17 0.0173s c_in=0 c_out=4\n",
            "frame 75/362 16 0.0171s c_in=0 c_out=4\n",
            "frame 76/362 17 0.0172s c_in=0 c_out=4\n",
            "frame 77/362 15 0.0200s c_in=0 c_out=4\n",
            "frame 78/362 16 0.0170s c_in=0 c_out=4\n",
            "frame 79/362 15 0.0176s c_in=0 c_out=4\n",
            "frame 80/362 15 0.0170s c_in=0 c_out=4\n",
            "frame 81/362 15 0.0169s c_in=0 c_out=4\n",
            "frame 82/362 15 0.0170s c_in=0 c_out=4\n",
            "frame 83/362 16 0.0174s c_in=0 c_out=4\n",
            "frame 84/362 19 0.0207s c_in=0 c_out=4\n",
            "frame 85/362 20 0.0176s c_in=0 c_out=4\n",
            "frame 86/362 20 0.0179s c_in=0 c_out=4\n",
            "frame 87/362 20 0.0185s c_in=0 c_out=4\n",
            "frame 88/362 20 0.0189s c_in=0 c_out=4\n",
            "frame 89/362 17 0.0189s c_in=0 c_out=4\n",
            "frame 90/362 17 0.0177s c_in=0 c_out=4\n",
            "frame 91/362 16 0.0182s c_in=0 c_out=4\n",
            "frame 92/362 18 0.0181s c_in=0 c_out=4\n",
            "frame 93/362 18 0.0186s c_in=0 c_out=4\n",
            "frame 94/362 17 0.0196s c_in=0 c_out=4\n",
            "frame 95/362 16 0.0172s c_in=0 c_out=4\n",
            "frame 96/362 14 0.0184s c_in=0 c_out=4\n",
            "frame 97/362 14 0.0183s c_in=0 c_out=4\n",
            "frame 98/362 13 0.0180s c_in=0 c_out=4\n",
            "frame 99/362 12 0.0169s c_in=0 c_out=4\n",
            "frame 100/362 13 0.0167s c_in=0 c_out=4\n",
            "frame 101/362 15 0.0174s c_in=0 c_out=4\n",
            "frame 102/362 18 0.0201s c_in=0 c_out=4\n",
            "frame 103/362 18 0.0176s c_in=0 c_out=4\n",
            "frame 104/362 17 0.0172s c_in=0 c_out=4\n",
            "frame 105/362 17 0.0171s c_in=0 c_out=4\n",
            "frame 106/362 18 0.0186s c_in=0 c_out=4\n",
            "frame 107/362 16 0.0172s c_in=0 c_out=4\n",
            "frame 108/362 17 0.0199s c_in=0 c_out=4\n",
            "frame 109/362 18 0.0175s c_in=0 c_out=4\n",
            "frame 110/362 18 0.0174s c_in=0 c_out=4\n",
            "frame 111/362 17 0.0176s c_in=0 c_out=4\n",
            "frame 112/362 15 0.0177s c_in=0 c_out=4\n",
            "frame 113/362 15 0.0178s c_in=0 c_out=4\n",
            "frame 114/362 16 0.0177s c_in=0 c_out=4\n",
            "frame 115/362 17 0.0182s c_in=0 c_out=4\n",
            "frame 116/362 15 0.0175s c_in=0 c_out=4\n",
            "frame 117/362 18 0.0198s c_in=0 c_out=4\n",
            "frame 118/362 17 0.0212s c_in=0 c_out=4\n",
            "frame 119/362 17 0.0225s c_in=0 c_out=4\n",
            "frame 120/362 18 0.0171s c_in=0 c_out=5\n",
            "frame 121/362 16 0.0170s c_in=0 c_out=5\n",
            "frame 122/362 15 0.0163s c_in=0 c_out=5\n",
            "frame 123/362 14 0.0168s c_in=0 c_out=5\n",
            "frame 124/362 15 0.0167s c_in=0 c_out=5\n",
            "frame 125/362 14 0.0170s c_in=0 c_out=5\n",
            "frame 126/362 15 0.0165s c_in=0 c_out=5\n",
            "frame 127/362 16 0.0168s c_in=0 c_out=5\n",
            "frame 128/362 15 0.0169s c_in=0 c_out=5\n",
            "frame 129/362 17 0.0183s c_in=0 c_out=5\n",
            "frame 130/362 17 0.0220s c_in=0 c_out=5\n",
            "frame 131/362 16 0.0172s c_in=0 c_out=5\n",
            "frame 132/362 13 0.0166s c_in=0 c_out=5\n",
            "frame 133/362 14 0.0163s c_in=0 c_out=5\n",
            "frame 134/362 15 0.0163s c_in=0 c_out=6\n",
            "frame 135/362 15 0.0169s c_in=0 c_out=6\n",
            "frame 136/362 15 0.0166s c_in=0 c_out=6\n",
            "frame 137/362 16 0.0167s c_in=0 c_out=6\n",
            "frame 138/362 16 0.0171s c_in=0 c_out=6\n",
            "frame 139/362 16 0.0187s c_in=0 c_out=6\n",
            "frame 140/362 15 0.0176s c_in=0 c_out=6\n",
            "frame 141/362 15 0.0168s c_in=0 c_out=6\n",
            "frame 142/362 14 0.0182s c_in=0 c_out=6\n",
            "frame 143/362 15 0.0194s c_in=0 c_out=6\n",
            "frame 144/362 17 0.0172s c_in=0 c_out=6\n",
            "frame 145/362 17 0.0169s c_in=0 c_out=7\n",
            "frame 146/362 17 0.0169s c_in=0 c_out=7\n",
            "frame 147/362 17 0.0170s c_in=0 c_out=7\n",
            "frame 148/362 15 0.0163s c_in=0 c_out=7\n",
            "frame 149/362 15 0.0168s c_in=0 c_out=7\n",
            "frame 150/362 15 0.0164s c_in=0 c_out=7\n",
            "frame 151/362 15 0.0166s c_in=0 c_out=8\n",
            "frame 152/362 15 0.0162s c_in=0 c_out=8\n",
            "frame 153/362 15 0.0157s c_in=0 c_out=8\n",
            "frame 154/362 15 0.0157s c_in=0 c_out=8\n",
            "frame 155/362 14 0.0158s c_in=0 c_out=8\n",
            "frame 156/362 12 0.0201s c_in=0 c_out=8\n",
            "frame 157/362 13 0.0167s c_in=0 c_out=8\n",
            "frame 158/362 14 0.0164s c_in=0 c_out=8\n",
            "frame 159/362 14 0.0161s c_in=0 c_out=8\n",
            "frame 160/362 10 0.0156s c_in=0 c_out=8\n",
            "frame 161/362 12 0.0172s c_in=0 c_out=8\n",
            "frame 162/362 15 0.0205s c_in=0 c_out=8\n",
            "frame 163/362 15 0.0235s c_in=0 c_out=8\n",
            "frame 164/362 14 0.0163s c_in=0 c_out=8\n",
            "frame 165/362 13 0.0164s c_in=0 c_out=8\n",
            "frame 166/362 12 0.0162s c_in=0 c_out=8\n",
            "frame 167/362 10 0.0158s c_in=0 c_out=8\n",
            "frame 168/362 12 0.0161s c_in=0 c_out=8\n",
            "frame 169/362 11 0.0167s c_in=0 c_out=8\n",
            "frame 170/362 14 0.0174s c_in=0 c_out=8\n",
            "frame 171/362 14 0.0198s c_in=0 c_out=8\n",
            "frame 172/362 14 0.0164s c_in=0 c_out=8\n",
            "frame 173/362 13 0.0179s c_in=0 c_out=8\n",
            "frame 174/362 15 0.0166s c_in=0 c_out=8\n",
            "frame 175/362 16 0.0166s c_in=0 c_out=8\n",
            "frame 176/362 16 0.0168s c_in=0 c_out=8\n",
            "frame 177/362 16 0.0162s c_in=0 c_out=9\n",
            "frame 178/362 14 0.0161s c_in=0 c_out=9\n",
            "frame 179/362 16 0.0163s c_in=0 c_out=9\n",
            "frame 180/362 18 0.0166s c_in=0 c_out=9\n",
            "frame 181/362 17 0.0163s c_in=0 c_out=9\n",
            "frame 182/362 16 0.0167s c_in=0 c_out=9\n",
            "frame 183/362 15 0.0206s c_in=0 c_out=9\n",
            "frame 184/362 17 0.0194s c_in=0 c_out=9\n",
            "frame 185/362 18 0.0206s c_in=0 c_out=9\n",
            "frame 186/362 18 0.0166s c_in=0 c_out=9\n",
            "frame 187/362 18 0.0166s c_in=0 c_out=9\n",
            "frame 188/362 17 0.0166s c_in=0 c_out=9\n",
            "frame 189/362 14 0.0160s c_in=0 c_out=10\n",
            "frame 190/362 15 0.0161s c_in=0 c_out=10\n",
            "frame 191/362 15 0.0166s c_in=0 c_out=10\n",
            "frame 192/362 16 0.0175s c_in=0 c_out=10\n",
            "frame 193/362 16 0.0170s c_in=0 c_out=10\n",
            "frame 194/362 15 0.0170s c_in=0 c_out=10\n",
            "frame 195/362 17 0.0202s c_in=0 c_out=10\n",
            "frame 196/362 17 0.0189s c_in=0 c_out=10\n",
            "frame 197/362 17 0.0170s c_in=0 c_out=10\n",
            "frame 198/362 15 0.0164s c_in=0 c_out=10\n",
            "frame 199/362 17 0.0161s c_in=0 c_out=10\n",
            "frame 200/362 17 0.0164s c_in=0 c_out=10\n",
            "frame 201/362 17 0.0167s c_in=0 c_out=10\n",
            "frame 202/362 16 0.0158s c_in=0 c_out=10\n",
            "frame 203/362 16 0.0161s c_in=0 c_out=10\n",
            "frame 204/362 16 0.0162s c_in=0 c_out=10\n",
            "frame 205/362 14 0.0157s c_in=0 c_out=10\n",
            "frame 206/362 15 0.0193s c_in=0 c_out=10\n",
            "frame 207/362 15 0.0175s c_in=0 c_out=10\n",
            "frame 208/362 14 0.0175s c_in=0 c_out=10\n",
            "frame 209/362 15 0.0168s c_in=0 c_out=10\n",
            "frame 210/362 13 0.0185s c_in=0 c_out=10\n",
            "frame 211/362 13 0.0173s c_in=0 c_out=10\n",
            "frame 212/362 14 0.0171s c_in=0 c_out=10\n",
            "frame 213/362 14 0.0164s c_in=0 c_out=10\n",
            "frame 214/362 14 0.0165s c_in=0 c_out=10\n",
            "frame 215/362 13 0.0167s c_in=0 c_out=10\n",
            "frame 216/362 14 0.0165s c_in=0 c_out=10\n",
            "frame 217/362 12 0.0182s c_in=0 c_out=10\n",
            "frame 218/362 12 0.0158s c_in=0 c_out=10\n",
            "frame 219/362 11 0.0155s c_in=0 c_out=10\n",
            "frame 220/362 14 0.0158s c_in=0 c_out=10\n",
            "frame 221/362 14 0.0163s c_in=0 c_out=10\n",
            "frame 222/362 15 0.0163s c_in=0 c_out=11\n",
            "frame 223/362 15 0.0163s c_in=0 c_out=11\n",
            "frame 224/362 14 0.0217s c_in=0 c_out=11\n",
            "frame 225/362 14 0.0166s c_in=0 c_out=11\n",
            "frame 226/362 13 0.0158s c_in=0 c_out=11\n",
            "frame 227/362 13 0.0160s c_in=0 c_out=11\n",
            "frame 228/362 14 0.0176s c_in=0 c_out=11\n",
            "frame 229/362 14 0.0171s c_in=0 c_out=11\n",
            "frame 230/362 14 0.0163s c_in=0 c_out=11\n",
            "frame 231/362 13 0.0167s c_in=0 c_out=11\n",
            "frame 232/362 14 0.0169s c_in=0 c_out=11\n",
            "frame 233/362 14 0.0168s c_in=0 c_out=11\n",
            "frame 234/362 13 0.0166s c_in=0 c_out=11\n",
            "frame 235/362 13 0.0161s c_in=0 c_out=11\n",
            "frame 236/362 12 0.0162s c_in=0 c_out=11\n",
            "frame 237/362 12 0.0161s c_in=0 c_out=11\n",
            "frame 238/362 11 0.0170s c_in=0 c_out=11\n",
            "frame 239/362 12 0.0180s c_in=0 c_out=11\n",
            "frame 240/362 13 0.0162s c_in=0 c_out=11\n",
            "frame 241/362 15 0.0167s c_in=0 c_out=11\n",
            "frame 242/362 14 0.0163s c_in=0 c_out=11\n",
            "frame 243/362 13 0.0165s c_in=0 c_out=11\n",
            "frame 244/362 14 0.0167s c_in=0 c_out=11\n",
            "frame 245/362 13 0.0172s c_in=0 c_out=11\n",
            "frame 246/362 14 0.0187s c_in=0 c_out=11\n",
            "frame 247/362 13 0.0167s c_in=0 c_out=11\n",
            "frame 248/362 14 0.0200s c_in=0 c_out=11\n",
            "frame 249/362 13 0.0185s c_in=0 c_out=11\n",
            "frame 250/362 16 0.0333s c_in=0 c_out=11\n",
            "frame 251/362 15 0.0165s c_in=0 c_out=11\n",
            "frame 252/362 13 0.0164s c_in=0 c_out=11\n",
            "frame 253/362 14 0.0169s c_in=0 c_out=11\n",
            "frame 254/362 15 0.0163s c_in=0 c_out=11\n",
            "frame 255/362 15 0.0160s c_in=0 c_out=11\n",
            "frame 256/362 15 0.0214s c_in=0 c_out=11\n",
            "frame 257/362 16 0.0211s c_in=0 c_out=11\n",
            "frame 258/362 14 0.0172s c_in=0 c_out=11\n",
            "frame 259/362 13 0.0162s c_in=0 c_out=11\n",
            "frame 260/362 12 0.0186s c_in=0 c_out=11\n",
            "frame 261/362 12 0.0189s c_in=0 c_out=11\n",
            "frame 262/362 11 0.0169s c_in=0 c_out=11\n",
            "frame 263/362 14 0.0164s c_in=0 c_out=11\n",
            "frame 264/362 14 0.0170s c_in=0 c_out=11\n",
            "frame 265/362 13 0.0164s c_in=0 c_out=11\n",
            "frame 266/362 14 0.0173s c_in=0 c_out=11\n",
            "frame 267/362 15 0.0199s c_in=0 c_out=11\n",
            "frame 268/362 14 0.0172s c_in=0 c_out=11\n",
            "frame 269/362 15 0.0167s c_in=0 c_out=11\n",
            "frame 270/362 12 0.0160s c_in=0 c_out=11\n",
            "frame 271/362 13 0.0197s c_in=0 c_out=11\n",
            "frame 272/362 15 0.0164s c_in=0 c_out=12\n",
            "frame 273/362 14 0.0176s c_in=0 c_out=12\n",
            "frame 274/362 14 0.0166s c_in=0 c_out=12\n",
            "frame 275/362 14 0.0211s c_in=0 c_out=12\n",
            "frame 276/362 14 0.0169s c_in=0 c_out=12\n",
            "frame 277/362 14 0.0171s c_in=0 c_out=12\n",
            "frame 278/362 11 0.0168s c_in=0 c_out=13\n",
            "frame 279/362 11 0.0167s c_in=0 c_out=13\n",
            "frame 280/362 11 0.0163s c_in=0 c_out=13\n",
            "frame 281/362 11 0.0157s c_in=0 c_out=13\n",
            "frame 282/362 11 0.0180s c_in=0 c_out=13\n",
            "frame 283/362 12 0.0166s c_in=0 c_out=13\n",
            "frame 284/362 11 0.0165s c_in=0 c_out=13\n",
            "frame 285/362 11 0.0172s c_in=0 c_out=13\n",
            "frame 286/362 11 0.0217s c_in=0 c_out=13\n",
            "frame 287/362 11 0.0159s c_in=0 c_out=13\n",
            "frame 288/362 12 0.0156s c_in=0 c_out=13\n",
            "frame 289/362 13 0.0163s c_in=0 c_out=13\n",
            "frame 290/362 13 0.0162s c_in=0 c_out=13\n",
            "frame 291/362 14 0.0163s c_in=0 c_out=13\n",
            "frame 292/362 14 0.0169s c_in=0 c_out=13\n",
            "frame 293/362 13 0.0203s c_in=0 c_out=13\n",
            "frame 294/362 15 0.0173s c_in=0 c_out=13\n",
            "frame 295/362 14 0.0185s c_in=0 c_out=13\n",
            "frame 296/362 14 0.0165s c_in=0 c_out=13\n",
            "frame 297/362 13 0.0165s c_in=0 c_out=13\n",
            "frame 298/362 12 0.0194s c_in=0 c_out=13\n",
            "frame 299/362 13 0.0170s c_in=0 c_out=13\n",
            "frame 300/362 13 0.0164s c_in=0 c_out=13\n",
            "frame 301/362 12 0.0170s c_in=0 c_out=13\n",
            "frame 302/362 12 0.0165s c_in=0 c_out=13\n",
            "frame 303/362 11 0.0248s c_in=0 c_out=13\n",
            "frame 304/362 12 0.0202s c_in=0 c_out=13\n",
            "frame 305/362 12 0.0228s c_in=0 c_out=13\n",
            "frame 306/362 14 0.0194s c_in=0 c_out=14\n",
            "frame 307/362 14 0.0262s c_in=0 c_out=14\n",
            "frame 308/362 14 0.0231s c_in=0 c_out=14\n",
            "frame 309/362 14 0.0226s c_in=0 c_out=14\n",
            "frame 310/362 13 0.0203s c_in=0 c_out=14\n",
            "frame 311/362 14 0.0235s c_in=0 c_out=14\n",
            "frame 312/362 15 0.0217s c_in=0 c_out=14\n",
            "frame 313/362 15 0.0218s c_in=0 c_out=14\n",
            "frame 314/362 13 0.0247s c_in=0 c_out=14\n",
            "frame 315/362 12 0.0204s c_in=0 c_out=14\n",
            "frame 316/362 13 0.0204s c_in=0 c_out=14\n",
            "frame 317/362 13 0.0220s c_in=0 c_out=14\n",
            "frame 318/362 12 0.0228s c_in=0 c_out=14\n",
            "frame 319/362 11 0.0237s c_in=0 c_out=14\n",
            "frame 320/362 13 0.0197s c_in=0 c_out=14\n",
            "frame 321/362 13 0.0266s c_in=0 c_out=14\n",
            "frame 322/362 11 0.0216s c_in=0 c_out=14\n",
            "frame 323/362 11 0.0197s c_in=0 c_out=14\n",
            "frame 324/362 10 0.0195s c_in=0 c_out=14\n",
            "frame 325/362 13 0.0218s c_in=0 c_out=14\n",
            "frame 326/362 12 0.0212s c_in=0 c_out=14\n",
            "frame 327/362 12 0.0245s c_in=0 c_out=14\n",
            "frame 328/362 14 0.0210s c_in=0 c_out=14\n",
            "frame 329/362 11 0.0201s c_in=0 c_out=14\n",
            "frame 330/362 14 0.0218s c_in=0 c_out=14\n",
            "frame 331/362 13 0.0208s c_in=0 c_out=14\n",
            "frame 332/362 12 0.0202s c_in=0 c_out=14\n",
            "frame 333/362 13 0.0198s c_in=0 c_out=14\n",
            "frame 334/362 13 0.0202s c_in=0 c_out=14\n",
            "frame 335/362 13 0.0205s c_in=0 c_out=15\n",
            "frame 336/362 12 0.0233s c_in=0 c_out=15\n",
            "frame 337/362 13 0.0201s c_in=0 c_out=15\n",
            "frame 338/362 14 0.0214s c_in=0 c_out=15\n",
            "frame 339/362 13 0.0198s c_in=0 c_out=15\n",
            "frame 340/362 13 0.0193s c_in=0 c_out=15\n",
            "frame 341/362 12 0.0209s c_in=0 c_out=15\n",
            "frame 342/362 10 0.0196s c_in=0 c_out=15\n",
            "frame 343/362 14 0.0202s c_in=0 c_out=15\n",
            "frame 344/362 13 0.0196s c_in=0 c_out=15\n",
            "frame 345/362 13 0.0247s c_in=0 c_out=15\n",
            "frame 346/362 13 0.0230s c_in=0 c_out=15\n",
            "frame 347/362 12 0.0243s c_in=0 c_out=15\n",
            "frame 348/362 13 0.0202s c_in=0 c_out=15\n",
            "frame 349/362 13 0.0196s c_in=0 c_out=15\n",
            "frame 350/362 13 0.0193s c_in=0 c_out=15\n",
            "frame 351/362 12 0.0204s c_in=0 c_out=15\n",
            "frame 352/362 11 0.0191s c_in=0 c_out=15\n",
            "frame 353/362 12 0.0207s c_in=0 c_out=15\n",
            "frame 354/362 12 0.0260s c_in=0 c_out=15\n",
            "frame 355/362 12 0.0203s c_in=0 c_out=15\n",
            "frame 356/362 12 0.0201s c_in=0 c_out=15\n",
            "frame 357/362 12 0.0227s c_in=0 c_out=15\n",
            "frame 358/362 12 0.0204s c_in=0 c_out=15\n",
            "frame 359/362 11 0.0192s c_in=0 c_out=15\n",
            "frame 360/362 12 0.0197s c_in=0 c_out=15\n",
            "frame 361/362 10 0.0219s c_in=0 c_out=15\n"
          ]
        }
      ]
    }
  ]
}
