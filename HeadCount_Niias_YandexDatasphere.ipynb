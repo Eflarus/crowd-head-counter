{
 "cells": [
  {
   "cell_type": "markdown",
   "metadata": {
    "cellId": "iic47gyr1phpw77sfbbi5",
    "execution_id": "8afdf1ef-cf18-41e5-9d07-0146ce983228",
    "id": "E7ugi6MCPxDb"
   },
   "source": [
    "## Import libs\n",
    "~ 10 min"
   ]
  },
  {
   "cell_type": "code",
   "execution_count": 43,
   "metadata": {
    "cellId": "ckb3dhdr2mg4udw99wwy4c"
   },
   "outputs": [
    {
     "name": "stdout",
     "output_type": "stream",
     "text": [
      "all libs installed\n"
     ]
    }
   ],
   "source": [
    "%pip install -r requirements.txt\n",
    "from IPython import display\n",
    "display.clear_output()\n",
    "print(\"all libs installed\")"
   ]
  },
  {
   "cell_type": "markdown",
   "metadata": {
    "cellId": "suc02cgpwbkg583nbf3d",
    "id": "vKeY4gIDP2di"
   },
   "source": [
    "## Install Yolo, Tracker"
   ]
  },
  {
   "cell_type": "code",
   "execution_count": 45,
   "metadata": {
    "cellId": "935epe9bhmawtj14zlmrz",
    "id": "AGp4u39xP9On"
   },
   "outputs": [],
   "source": [
    "%cd {HOME}\n",
    "!git clone https://github.com/ultralytics/yolov5\n",
    "\n",
    "%cd {HOME}/yolov5\n",
    "%pip install -r requirements.txt\n",
    "\n",
    "from IPython import display\n",
    "display.clear_output()\n",
    "print(\"yolo loaded\")"
   ]
  },
  {
   "cell_type": "code",
   "execution_count": 46,
   "metadata": {
    "cellId": "ned25q6uzpm5sd2xm15l7w",
    "colab": {
     "base_uri": "https://localhost:8080/"
    },
    "id": "_StbOEnoQGyF",
    "outputId": "7ce2f70f-f97a-4fbe-ee7e-0a379ae7887c"
   },
   "outputs": [
    {
     "name": "stdout",
     "output_type": "stream",
     "text": [
      "/home/jupyter/work/resources/crowd-head-counter\n"
     ]
    },
    {
     "name": "stderr",
     "output_type": "stream",
     "text": [
      "Cloning into 'ByteTrack'...\n",
      "Checking out files: 100% (229/229), done.\n"
     ]
    }
   ],
   "source": [
    "%cd {HOME}\n",
    "!git clone https://github.com/ifzhang/ByteTrack.git\n",
    "# %cd {HOME}/ByteTrack\n",
    "\n",
    "# # workaround related to https://github.com/roboflow/notebooks/issues/80\n",
    "# !sed -i 's/onnx==1.8.1/onnx==1.14.0/g' requirements.txt\n",
    "# !sed -i 's/onnxruntime==1.8.0/onnxruntime==1.12.0/g' requirements.txt\n",
    "\n",
    "# %pip install -q -r requirements.txt\n",
    "# !python3 setup.py -q develop\n",
    "# %pip install -q cython_bbox\n",
    "# %pip install -q onemetric\n",
    "# # workaround related to https://github.com/roboflow/notebooks/issues/112 and https://github.com/roboflow/notebooks/issues/106\n",
    "# %pip install -q loguru lap thop\n",
    "\n",
    "# from IPython import display\n",
    "# display.clear_output()\n",
    "print(\"tracker loaded\")"
   ]
  },
  {
   "cell_type": "code",
   "execution_count": 44,
   "metadata": {
    "cellId": "74ykjrz1jia9kzshbp8kbr",
    "colab": {
     "base_uri": "https://localhost:8080/"
    },
    "id": "_SzgwtHlO2Ox",
    "outputId": "1f34149b-0324-441c-c0ba-33049d0ce67c"
   },
   "outputs": [
    {
     "name": "stdout",
     "output_type": "stream",
     "text": [
      "nvcc: NVIDIA (R) Cuda compiler driver\n",
      "Copyright (c) 2005-2021 NVIDIA Corporation\n",
      "Built on Sun_Feb_14_21:12:58_PST_2021\n",
      "Cuda compilation tools, release 11.2, V11.2.152\n",
      "Build cuda_11.2.r11.2/compiler.29618528_0\n",
      "torch:  2.0 ; cuda:  cu117\n",
      "/home/jupyter/work/resources/crowd-head-counter\n"
     ]
    }
   ],
   "source": [
    "#!g1.1\n",
    "import torch\n",
    "!nvcc --version\n",
    "TORCH_VERSION = \".\".join(torch.__version__.split(\".\")[:2])\n",
    "CUDA_VERSION = torch.__version__.split(\"+\")[-1]\n",
    "print(\"torch: \", TORCH_VERSION, \"; cuda: \", CUDA_VERSION)\n",
    "\n",
    "import os\n",
    "HOME = os.getcwd()\n",
    "print(HOME)\n",
    "\n",
    "import pandas as pd\n",
    "import time\n",
    "import cv2\n",
    "import supervision"
   ]
  },
  {
   "cell_type": "code",
   "execution_count": 47,
   "metadata": {
    "cellId": "zp432geocga0djekyc5ghv7"
   },
   "outputs": [
    {
     "name": "stdout",
     "output_type": "stream",
     "text": [
      "yolox.__version__: 0.1.0\n",
      "/home/jupyter/work/resources/crowd-head-counter\n"
     ]
    }
   ],
   "source": [
    "#!g1.1\n",
    "import sys\n",
    "sys.path.append(f\"{HOME}/ByteTrack\")\n",
    "\n",
    "import yolox\n",
    "print(\"yolox.__version__:\", yolox.__version__)\n",
    "%cd {HOME}"
   ]
  },
  {
   "cell_type": "markdown",
   "metadata": {
    "cellId": "sfztfll37qkgunxh5ufjrt",
    "id": "JCpJjdYfQL-I"
   },
   "source": [
    "## Config Tracker, Supervision"
   ]
  },
  {
   "cell_type": "code",
   "execution_count": 48,
   "metadata": {
    "cellId": "tqpk4mxuaiftvah0qjle3",
    "id": "c7chfC7NQUV0"
   },
   "outputs": [],
   "source": [
    "#!g1.1\n",
    "from yolox.tracker.byte_tracker import BYTETracker, STrack\n",
    "from onemetric.cv.utils.iou import box_iou_batch\n",
    "from dataclasses import dataclass\n",
    "\n",
    "\n",
    "@dataclass(frozen=True)\n",
    "class BYTETrackerArgs:\n",
    "    track_thresh: float = 0.25\n",
    "    track_buffer: int = 30\n",
    "    match_thresh: float = 0.8\n",
    "    aspect_ratio_thresh: float = 3.0\n",
    "    min_box_area: float = 1.0\n",
    "    mot20: bool = False"
   ]
  },
  {
   "cell_type": "code",
   "execution_count": 49,
   "metadata": {
    "cellId": "vbvlmxunkeeuanj6f9xbm",
    "id": "7FPsJ1CrQfNq"
   },
   "outputs": [],
   "source": [
    "#!g1.1\n",
    "import supervision\n",
    "from supervision.draw.color import ColorPalette\n",
    "from supervision.geometry.core import Point\n",
    "from supervision.utils.video import VideoInfo\n",
    "from supervision.utils.video import get_video_frames_generator\n",
    "from supervision.utils.video import process_video\n",
    "from supervision.utils.notebook import plot_image as show_frame_in_notebook\n",
    "from supervision.detection.annotate import Detections, BoxAnnotator\n",
    "from supervision.detection.line_counter import LineZone as LineCounter, LineZoneAnnotator as LineCounterAnnotator"
   ]
  },
  {
   "cell_type": "markdown",
   "metadata": {
    "cellId": "whlyyxrko4vlk4brssumq",
    "execution_id": "98160beb-d2df-40d7-84b6-9d282f2dfe91",
    "id": "w8Ze9lBaQpgR"
   },
   "source": [
    "## Load & Config Model"
   ]
  },
  {
   "cell_type": "code",
   "execution_count": 50,
   "metadata": {
    "cellId": "mwogcw2mzfdwqhsbegl4u",
    "colab": {
     "base_uri": "https://localhost:8080/"
    },
    "id": "i9AfsC6AQzmo",
    "outputId": "3e03e729-8c85-45b9-9640-a8e61443fba4"
   },
   "outputs": [
    {
     "name": "stderr",
     "output_type": "stream",
     "text": [
      "Downloading...\n",
      "From: https://drive.google.com/uc?id=1gglIwqxaH2iTvy6lZlXuAcMpd_U0GCUb\n",
      "To: /home/jupyter/work/resources/crowd-head-counter/crowdhuman_yolov5m.pt\n",
      "100%|██████████| 169M/169M [00:02<00:00, 63.8MB/s] \n"
     ]
    },
    {
     "data": {
      "text/plain": [
       "'./crowdhuman_yolov5m.pt'"
      ]
     },
     "execution_count": 50,
     "metadata": {},
     "output_type": "execute_result"
    }
   ],
   "source": [
    "#!g1.1\n",
    "# !gdown  1gglIwqxaH2iTvy6lZlXuAcMpd_U0GCUb # load crowdhuman_yolov5m.pt\n",
    "import gdown\n",
    "\n",
    "gdrive_file_id = '1gglIwqxaH2iTvy6lZlXuAcMpd_U0GCUb'\n",
    "dst_path = './crowdhuman_yolov5m.pt'\n",
    "\n",
    "gdown.download(id=gdrive_file_id, output=dst_path)"
   ]
  },
  {
   "cell_type": "code",
   "execution_count": 51,
   "metadata": {
    "cellId": "9ifij0qyz3n3sz2k1i8c2k",
    "colab": {
     "base_uri": "https://localhost:8080/"
    },
    "id": "d7GzgjK_Q7wx",
    "outputId": "dc48e734-7d33-45b8-9a37-92ea1f46aee9"
   },
   "outputs": [
    {
     "name": "stderr",
     "output_type": "stream",
     "text": [
      "/home/jupyter/.local/lib/python3.8/site-packages/torch/hub.py:286: UserWarning: You are about to download and run code from an untrusted repository. In a future release, this won't be allowed. To add the repository to your trusted list, change the command to {calling_fn}(..., trust_repo=False) and a command prompt will appear asking for an explicit confirmation of trust, or load(..., trust_repo=True), which will assume that the prompt is to be answered with 'yes'. You can also use load(..., trust_repo='check') which will only prompt for confirmation if the repo is not already trusted. This will eventually be the default behaviour\n",
      "  warnings.warn(\n",
      "Downloading: \"https://github.com/ultralytics/yolov5/zipball/master\" to /tmp/xdg_cache/torch/hub/master.zip\n",
      "YOLOv5 🚀 2023-7-5 Python-3.8.12 torch-2.0.1+cu117 CUDA:0 (Tesla V100-PCIE-32GB, 32510MiB)\n",
      "\n",
      "Fusing layers... \n",
      "Model summary: 308 layers, 21041679 parameters, 0 gradients\n",
      "Adding AutoShape... \n"
     ]
    }
   ],
   "source": [
    "#!g1.1\n",
    "model = torch.hub.load('ultralytics/yolov5', 'custom', path='./crowdhuman_yolov5m.pt', force_reload=True)"
   ]
  },
  {
   "cell_type": "markdown",
   "metadata": {
    "cellId": "wfjy1ihjseo3z627wb3r1o",
    "execution_id": "7a93cfb0-645f-4e33-a56e-ba289ae8b4ed",
    "id": "Hyys8SLXRDsm"
   },
   "source": [
    "## Some utils for work"
   ]
  },
  {
   "cell_type": "code",
   "execution_count": 52,
   "metadata": {
    "cellId": "6lwkwu3mwqf9pamr31sci",
    "id": "oedOG6znRJxa"
   },
   "outputs": [],
   "source": [
    "#!g1.1\n",
    "def resize_video(in_path, out_path, height:int):\n",
    "  import moviepy.editor as mp\n",
    "  clip = mp.VideoFileClip(in_path)\n",
    "  clip_resized = clip.resize(height=height) # According to moviePy documenation The width is then computed so that the width/height ratio is conserved.\n",
    "  clip_resized.write_videofile(out_path)\n",
    "  return\n"
   ]
  },
  {
   "cell_type": "code",
   "execution_count": 53,
   "metadata": {
    "cellId": "7g06y3b9kam8fnug21lqm5"
   },
   "outputs": [],
   "source": [
    "#!g1.1\n",
    "def load_from_yadisk(file_key, dist_path):\n",
    "    import requests\n",
    "    from urllib.parse import urlencode\n",
    "\n",
    "    base_url = 'https://cloud-api.yandex.net/v1/disk/public/resources/download?'\n",
    "    public_key = file_key\n",
    "\n",
    "    final_url = base_url + urlencode(dict(public_key=public_key))\n",
    "    response = requests.get(final_url)\n",
    "    download_url = response.json()['href']\n",
    "    response = requests.get(download_url)\n",
    "\n",
    "    with open(dist_path, 'wb') as f:\n",
    "        f.write(response.content)\n",
    "    print('file loaded')"
   ]
  },
  {
   "cell_type": "code",
   "execution_count": 54,
   "metadata": {
    "cellId": "1goihzyjzcih2wdqmdyre0j",
    "id": "fa6MCpjJR6Jk"
   },
   "outputs": [],
   "source": [
    "#!g1.1\n",
    "from typing import List\n",
    "\n",
    "import numpy as np\n",
    "\n",
    "\n",
    "# converts Detections into format that can be consumed by match_detections_with_tracks function\n",
    "def detections2boxes(detections: Detections) -> np.ndarray:\n",
    "    return np.hstack((\n",
    "        detections.xyxy,\n",
    "        detections.confidence[:, np.newaxis]\n",
    "    ))\n",
    "\n",
    "\n",
    "# converts List[STrack] into format that can be consumed by match_detections_with_tracks function\n",
    "def tracks2boxes(tracks: List[STrack]) -> np.ndarray:\n",
    "    return np.array([\n",
    "        track.tlbr\n",
    "        for track\n",
    "        in tracks\n",
    "    ], dtype=float)\n",
    "\n",
    "\n",
    "# matches our bounding boxes with predictions\n",
    "def match_detections_with_tracks(\n",
    "    detections: Detections,\n",
    "    tracks: List[STrack]\n",
    ") -> Detections:\n",
    "    if not np.any(detections.xyxy) or len(tracks) == 0:\n",
    "        return np.empty((0,))\n",
    "\n",
    "    tracks_boxes = tracks2boxes(tracks=tracks)\n",
    "    iou = box_iou_batch(tracks_boxes, detections.xyxy)\n",
    "    track2detection = np.argmax(iou, axis=1)\n",
    "\n",
    "    tracker_ids = [None] * len(detections)\n",
    "\n",
    "    for tracker_index, detection_index in enumerate(track2detection):\n",
    "        if iou[tracker_index, detection_index] != 0:\n",
    "            tracker_ids[detection_index] = tracks[tracker_index].track_id\n",
    "\n",
    "    return tracker_ids"
   ]
  },
  {
   "cell_type": "code",
   "execution_count": 55,
   "metadata": {
    "cellId": "kucm6h6zu49sh9xs1ez2wp",
    "id": "iT8i0O8QTcXX"
   },
   "outputs": [],
   "source": [
    "#!g1.1\n",
    "# returns real coord of line points from normalised coords\n",
    "def make_line(video_path, p1_n, p2_n):\n",
    "  V_PARAMS = VideoInfo.from_video_path(video_path)\n",
    "  w, h = V_PARAMS.width, V_PARAMS.height\n",
    "  return Point(int(w*p1_n[0]), int(h*p1_n[1])), Point(int(w*p2_n[0]), int(h*p2_n[1]))"
   ]
  },
  {
   "cell_type": "code",
   "execution_count": 56,
   "metadata": {
    "cellId": "tw3btarjc3jrg2f5d5pjn",
    "id": "qWu9c2a1U3WZ"
   },
   "outputs": [],
   "source": [
    "#!g1.1\n",
    "def process_frame(frame: np.ndarray, index: int) -> np.ndarray:\n",
    "        start_time = time.time()\n",
    "        results = model(frame)\n",
    "        detections = Detections.from_yolov5(results)\n",
    "\n",
    "        # filtering out detections with unwanted classes\n",
    "        detections = detections[(detections.class_id == 1)]\n",
    "\n",
    "        # tracking detections\n",
    "        tracks = byte_tracker.update(\n",
    "            output_results=detections2boxes(detections=detections),\n",
    "            img_info=frame.shape,\n",
    "            img_size=frame.shape\n",
    "        )\n",
    "        tracker_id = match_detections_with_tracks(detections=detections, tracks=tracks)\n",
    "        detections.tracker_id = np.array(tracker_id)\n",
    "\n",
    "        # filtering out detections without trackers\n",
    "        detections = detections[(detections.tracker_id != None)]\n",
    "\n",
    "\n",
    "        # updating line counter\n",
    "        line_counter.trigger(detections=detections)\n",
    "        line_counter.in_count\n",
    "\n",
    "        c_in=line_counter.in_count\n",
    "        c_out=line_counter.out_count\n",
    "\n",
    "        # annotate frame\n",
    "        if (SHOW_LABELS):\n",
    "          # format custom labels\n",
    "          labels = [\n",
    "              f\"#{tracker_id}\"\n",
    "              for _,_, confidence, class_id, tracker_id\n",
    "              in detections\n",
    "          ]\n",
    "          frame = box_annotator.annotate(scene=frame, detections=detections, labels=labels)\n",
    "        else:\n",
    "          frame = box_annotator.annotate(scene=frame, detections=detections, skip_label=True)\n",
    "\n",
    "        if (SHOW_LINECOUNTER):\n",
    "          line_annotator.annotate(frame=frame, line_counter=line_counter)\n",
    "        else:\n",
    "          cv2.putText(frame, f\"{c_in} {c_out}\", (20, 20),\tcv2.FONT_HERSHEY_SIMPLEX, 0.5, (0, 255, 0), 2)\n",
    "          cv2.line(frame, (LINE_START.x,LINE_START.y) , (LINE_END.x, LINE_END.y), (255, 255, 255), 1)\n",
    "\n",
    "        # Save to storage\n",
    "        DS[index/FPS]=(c_in, c_out)\n",
    "\n",
    "        # Show process stat\n",
    "        print(f'frame {index}/{TOTAL_FRAMES} {len(detections)} {(time.time() - start_time):.4f}s {c_in=} {c_out=}')\n",
    "\n",
    "        return frame"
   ]
  },
  {
   "cell_type": "markdown",
   "metadata": {
    "cellId": "zkekdkccyo2yllv9knk4s",
    "execution_id": "764d8c79-2dab-416b-a822-6fef446bb130"
   },
   "source": [
    "# Config all stuff here!!!\n"
   ]
  },
  {
   "cell_type": "code",
   "execution_count": 57,
   "metadata": {
    "cellId": "n0vf8ea39rabx0w9wzxglt"
   },
   "outputs": [],
   "source": [
    "#!g1.1\n",
    "point_start, point_end = [0.66, 0.42],[0.86, 0.44] # get normalized points it from https://roboflow.github.io/polygonzone/\n",
    "video_link_from_yadisk = 'https://disk.yandex.ru/i/lV4PDmiVBBCklg'\n",
    "out_path =  'out.mp4'\n",
    "stat_path =  'out.csv'\n",
    "LBL_SIZE: float = 0.5\n",
    "LBL_I : int = 1"
   ]
  },
  {
   "cell_type": "markdown",
   "metadata": {
    "cellId": "iljnkh6gasnkbkld94wglb",
    "execution_id": "462114e5-3007-41ff-a07a-85fb407e487e",
    "id": "2Ohqr2eCSI6H"
   },
   "source": [
    "## Load and process video"
   ]
  },
  {
   "cell_type": "code",
   "execution_count": 58,
   "metadata": {
    "cellId": "ezeca1dgvg8p75qq568qls",
    "colab": {
     "base_uri": "https://localhost:8080/"
    },
    "id": "IN6sFvXCSMgE",
    "outputId": "239e9a2b-277b-4305-9cd3-ecd0ce4cc349"
   },
   "outputs": [],
   "source": [
    "#!g1.1\n",
    "# if you want load video from gdrive do thomething like here\n",
    "#%cd %cd {HOME}\n",
    "#gdown.download(id='1kxBHYgVfgyRJsCaXUCotNt8WqUOuvWfU', output='./in.mp4')\n",
    "\n",
    "\n",
    "# some demo videos\n",
    "# !gdown 1h62b_Dh4Fw8ff2gwBLPC4WemT4MNE__x -O in.mp4 # subway_demo.mp4\n",
    "# !gdown 1qZ6ROKdzHbQiHdizKfYbecr9qquOQ0Cz -O in.mp4 # subway.mp4 https://drive.google.com/file/d//view?usp=drive_link\n",
    "# !gdown 1sGr3TgnFVsMrF6i0Eb2rkNxQHS7YdBxV -O in.mp4\n",
    "# !gdown 1kxBHYgVfgyRJsCaXUCotNt8WqUOuvWfU -O in.mp4"
   ]
  },
  {
   "cell_type": "code",
   "execution_count": 63,
   "metadata": {
    "cellId": "5rbnbc4xrazgb0wzpr72o",
    "colab": {
     "base_uri": "https://localhost:8080/"
    },
    "id": "Jg3AqJKXS3ze",
    "outputId": "ef35f577-08d4-408b-d042-62f88e7385a8"
   },
   "outputs": [
    {
     "name": "stdout",
     "output_type": "stream",
     "text": [
      "VideoInfo(width=596, height=336, fps=25, total_frames=362) Point(x=393, y=141) Point(x=512, y=147) (0, 15)\n"
     ]
    }
   ],
   "source": [
    "#!g1.1\n",
    "IN_VIDEO_PATH = f\"{HOME}/in.mp4\"\n",
    "\n",
    "load_from_yadisk(video_link_from_yadisk, IN_VIDEO_PATH)\n",
    "\n",
    "\n",
    "VIDEO_INFO = VideoInfo.from_video_path(IN_VIDEO_PATH)\n",
    "FPS = VIDEO_INFO.fps\n",
    "TOTAL_FRAMES = VIDEO_INFO.total_frames\n",
    "SHOW_LABELS : bool = False\n",
    "SHOW_LINECOUNTER: bool = False\n",
    "\n",
    "# statistics storage\n",
    "DS = {}\n",
    "\n",
    "in_path = IN_VIDEO_PATH\n",
    "print(VIDEO_INFO)\n",
    "\n",
    "LINE_START, LINE_END = make_line(in_path, point_start, point_end)\n",
    "print(LINE_START, LINE_END)\n",
    "\n",
    "# create BYTETracker instance\n",
    "byte_tracker = BYTETracker(BYTETrackerArgs())\n",
    "# create VideoInfo instance\n",
    "video_info = VideoInfo.from_video_path(in_path)\n",
    "# create frame generator\n",
    "generator = get_video_frames_generator(in_path)\n",
    "# create LineCounter instance\n",
    "line_counter = LineCounter(start=LINE_START, end=LINE_END)\n",
    "# create instance of BoxAnnotator and LineCounterAnnotator\n",
    "box_annotator = BoxAnnotator(color=ColorPalette.from_hex(['#00ff00']), thickness=LBL_I, text_thickness=LBL_I, text_scale=LBL_SIZE)\n",
    "line_annotator = LineCounterAnnotator(thickness=LBL_I, text_thickness=LBL_I, text_scale=LBL_SIZE)\n",
    "\n",
    "process_video(\n",
    "    source_path=in_path,\n",
    "    target_path=out_path,\n",
    "    callback=process_frame\n",
    ")\n",
    "display.clear_output()\n",
    "print(f\"{VIDEO_INFO}, {LINE_START=}, {LINE_END=}, inout={DS[list(DS.keys())[-1]]}\")"
   ]
  },
  {
   "cell_type": "code",
   "execution_count": 62,
   "metadata": {
    "cellId": "xdxfo0b63ervfy4cdpusw"
   },
   "outputs": [],
   "source": [
    "#!g1.1\n",
    "# Write dictionary to CSV\n",
    "with open(stat_path, 'w', newline='') as file:\n",
    "    import csv\n",
    "    writer = csv.writer(file)\n",
    "    writer.writerow(['Time', 'in', 'out'])  # Optional: Write header\n",
    "    for key, value in DS.items():\n",
    "        writer.writerow([key, value[0], value[1]])"
   ]
  }
 ],
 "metadata": {
  "accelerator": "GPU",
  "colab": {
   "gpuType": "T4",
   "provenance": []
  },
  "language_info": {
   "codemirror_mode": {
    "name": "ipython",
    "version": 3
   },
   "file_extension": ".py",
   "mimetype": "text/x-python",
   "name": "python",
   "nbconvert_exporter": "python",
   "pygments_lexer": "ipython3",
   "version": "3.7.7"
  },
  "notebookId": "30fb29e3-f597-4a9b-9634-6066256d657f",
  "notebookPath": "crowd-head-counter/HeadCount_Niias_YandexDatasphere.ipynb"
 },
 "nbformat": 4,
 "nbformat_minor": 4
}
